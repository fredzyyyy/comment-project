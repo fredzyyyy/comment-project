{
 "cells": [
  {
   "cell_type": "markdown",
   "id": "3982e1",
   "metadata": {
    "collapsed": false
   },
   "source": [
    "### Comment Writing Engine\n",
    "\n",
    "#### an application to help teachers write better comments in less time\n"
   ]
  },
  {
   "cell_type": "code",
   "execution_count": 0,
   "id": "d02a83",
   "metadata": {
    "collapsed": false
   },
   "outputs": [
   ],
   "source": [
    "# functions and code for reading data files, generating comments and writing them to files\n",
    "\n"
   ]
  }
 ],
 "metadata": {
  "kernelspec": {
   "argv": [
    "/ext/jupyter/kernels/anaconda2022/launch.sh",
    "{connection_file}"
   ],
   "display_name": "Python 3 (Anaconda 2022)",
   "env": {
   },
   "language": "python",
   "metadata": {
    "cocalc": {
     "description": "Anaconda 2022.05 Python 3 environment",
     "priority": 5,
     "url": "https://www.anaconda.com/distribution/"
    }
   },
   "name": "anaconda2022",
   "resource_dir": "/ext/jupyter/kernels/anaconda2022"
  }
 },
 "nbformat": 4,
 "nbformat_minor": 4
}